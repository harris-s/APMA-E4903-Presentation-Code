{
 "cells": [
  {
   "cell_type": "code",
   "execution_count": 1,
   "metadata": {
    "collapsed": false
   },
   "outputs": [],
   "source": [
    "import numpy\n",
    "import scipy\n",
    "import csv\n",
    "from scipy.stats import norm\n",
    "from scipy import stats\n",
    "from datetime import date\n",
    "import matplotlib.pyplot as plt\n",
    "%matplotlib inline"
   ]
  },
  {
   "cell_type": "code",
   "execution_count": 2,
   "metadata": {
    "collapsed": true
   },
   "outputs": [],
   "source": [
    "data = open(\"table.csv\")\n",
    "data_file = csv.reader(data)\n",
    "    \n",
    "stock_price = []\n",
    "\n",
    "for i in data_file:\n",
    "    stock_price.append(i[4])\n",
    "\n",
    "stock_price = numpy.array(stock_price)\n",
    "stock_price = stock_price[1:len(stock_price)]\n",
    "stock_price = stock_price[0:21]"
   ]
  },
  {
   "cell_type": "code",
   "execution_count": 3,
   "metadata": {
    "collapsed": true
   },
   "outputs": [],
   "source": [
    "stock_price_float = numpy.linspace(0,0,len(stock_price))\n",
    "\n",
    "for i in range(len(stock_price)):\n",
    "    stock_price_float[i] = float(stock_price[i])"
   ]
  },
  {
   "cell_type": "code",
   "execution_count": 4,
   "metadata": {
    "collapsed": true
   },
   "outputs": [],
   "source": [
    "price_analysis = numpy.linspace(0,0,len(stock_price_float)-1)\n",
    "\n",
    "for i in range(len(price_analysis)):\n",
    "    price_analysis[i] = numpy.log(stock_price_float[i] / stock_price_float[i+1])\n",
    "    \n",
    "average = sum(price_analysis)/len(price_analysis)\n",
    "stdev = numpy.std(price_analysis)"
   ]
  },
  {
   "cell_type": "code",
   "execution_count": 5,
   "metadata": {
    "collapsed": false
   },
   "outputs": [],
   "source": [
    "annual_stdev = numpy.sqrt(252) * stdev"
   ]
  },
  {
   "cell_type": "code",
   "execution_count": 6,
   "metadata": {
    "collapsed": false
   },
   "outputs": [],
   "source": [
    "start = date(2015, 11, 8)\n",
    "exp = date(2018, 1, 19)\n",
    "time_length = exp - start\n",
    "time_length_years = time_length.days / 365.25"
   ]
  },
  {
   "cell_type": "code",
   "execution_count": 7,
   "metadata": {
    "collapsed": true
   },
   "outputs": [],
   "source": [
    "def d1(sigma, time, share_price, strike_price, r):\n",
    "    return 1.0 / (sigma * numpy.sqrt(time)) * (numpy.log(float(share_price) / float(strike_price)) + \\\n",
    "                                               time * (r + 1.0 / 2.0 * sigma**2))\n",
    "\n",
    "def d2(sigma, time, share_price, strike_price, r):\n",
    "    return d1(sigma, time, share_price, strike_price, r) - sigma * numpy.sqrt(time)\n",
    "\n",
    "def final(d1_output, d2_output, time, share_price, strike_price, r):\n",
    "    return norm.cdf(d1_output) * share_price - norm.cdf(d2_output) * strike_price * numpy.exp(-r * time)"
   ]
  },
  {
   "cell_type": "code",
   "execution_count": 8,
   "metadata": {
    "collapsed": false
   },
   "outputs": [
    {
     "name": "stdout",
     "output_type": "stream",
     "text": [
      "4.17901767593\n"
     ]
    }
   ],
   "source": [
    "sigma = annual_stdev\n",
    "time = time_length_years\n",
    "share_price = stock_price_float[0]\n",
    "strike_price = 20.00\n",
    "r = .022934\n",
    "\n",
    "a = d1(sigma, time, share_price, strike_price, r)\n",
    "b = d2(sigma, time, share_price, strike_price, r)\n",
    "c = final(a, b, time, share_price, strike_price, r)\n",
    "\n",
    "print c"
   ]
  },
  {
   "cell_type": "code",
   "execution_count": 9,
   "metadata": {
    "collapsed": true
   },
   "outputs": [],
   "source": [
    "def black_scholes(sigma, time, share_price, strike_price, r):\n",
    "    a = 1.0 / (sigma * numpy.sqrt(time)) * (numpy.log(float(share_price) / float(strike_price)) + \\\n",
    "                                               time * (r + 1.0 / 2.0 * sigma**2))\n",
    "    \n",
    "    b = a - sigma * numpy.sqrt(time)\n",
    "    \n",
    "    c = norm.cdf(a) * share_price - norm.cdf(b) * strike_price * numpy.exp(-r * time)\n",
    "    \n",
    "    return c"
   ]
  },
  {
   "cell_type": "code",
   "execution_count": 10,
   "metadata": {
    "collapsed": true
   },
   "outputs": [],
   "source": [
    "def put(sigma, time, share_price, strike_price, r):\n",
    "    return black_scholes(sigma, time, share_price, strike_price, r) - share_price + strike_price * numpy.exp(-r * time)"
   ]
  },
  {
   "cell_type": "code",
   "execution_count": 11,
   "metadata": {
    "collapsed": true
   },
   "outputs": [],
   "source": [
    "sigma_spread = numpy.linspace(sigma - sigma + .01, sigma + sigma, 50)\n",
    "\n",
    "time_spread = numpy.linspace(time - time + .01, time + time, 50)\n",
    "\n",
    "share_price_spread = numpy.linspace(share_price - 10, share_price + 10, 50)\n",
    "\n",
    "strike_price_spread = numpy.linspace(strike_price - 10, strike_price + 10, 50)\n",
    "\n",
    "r_spread = numpy.linspace(r - r + .01, r + r, 50)"
   ]
  },
  {
   "cell_type": "code",
   "execution_count": 12,
   "metadata": {
    "collapsed": false,
    "scrolled": false
   },
   "outputs": [],
   "source": [
    "sigma = annual_stdev\n",
    "time = time_length_years\n",
    "share_price = 20.00\n",
    "strike_price = 20.00\n",
    "r = .022934\n",
    "\n",
    "sigma_results_call = numpy.linspace(0,0,50)\n",
    "sigma_results_put = numpy.linspace(0,0,50)\n",
    "for i in xrange(50):\n",
    "    sigma_results_call[i] = black_scholes(sigma_spread[i], time, share_price, strike_price, r)\n",
    "    sigma_results_put[i] = put(sigma_spread[i], time, share_price, strike_price, r)\n",
    "\n",
    "time_results_call = numpy.linspace(0,0,50)\n",
    "time_results_put = numpy.linspace(0,0,50)\n",
    "for i in xrange(50):\n",
    "    time_results_call[i] = black_scholes(sigma, time_spread[i], share_price, strike_price, r)\n",
    "    time_results_put[i] = put(sigma, time_spread[i], share_price, strike_price, r)\n",
    "    \n",
    "share_price_results_call = numpy.linspace(0,0,50)\n",
    "share_price_results_put = numpy.linspace(0,0,50)\n",
    "for i in xrange(50):\n",
    "    share_price_results_call[i] = black_scholes(sigma, time, share_price_spread[i], strike_price, r)\n",
    "    share_price_results_put[i] = put(sigma, time, share_price_spread[i], strike_price, r)\n",
    "    \n",
    "strike_price_results_call = numpy.linspace(0,0,50)\n",
    "strike_price_results_put = numpy.linspace(0,0,50)\n",
    "for i in xrange(50):\n",
    "    strike_price_results_call[i] = black_scholes(sigma, time, share_price, strike_price_spread[i], r)\n",
    "    strike_price_results_put[i] = put(sigma, time, share_price, strike_price_spread[i], r)\n",
    "    \n",
    "r_results_call = numpy.linspace(0,0,50)\n",
    "r_results_put = numpy.linspace(0,0,50)\n",
    "for i in xrange(50):\n",
    "    r_results_call[i] = black_scholes(sigma, time, share_price, strike_price, r_spread[i])\n",
    "    r_results_put[i] = put(sigma, time, share_price, strike_price, r_spread[i])    "
   ]
  },
  {
   "cell_type": "code",
   "execution_count": 13,
   "metadata": {
    "collapsed": false
   },
   "outputs": [
    {
     "data": {
      "text/plain": [
       "<matplotlib.text.Text at 0x1067b3550>"
      ]
     },
     "execution_count": 13,
     "metadata": {},
     "output_type": "execute_result"
    },
    {
     "data": {
      "image/png": "[encoded data removed]",
      "text/plain": [
       "<matplotlib.figure.Figure at 0x10394ba90>"
      ]
     },
     "metadata": {},
     "output_type": "display_data"
    }
   ],
   "source": [
    "fig = plt.figure()\n",
    "axes = fig.add_subplot(1,1,1)\n",
    "axes.plot(sigma_spread, sigma_results_call, 'k')\n",
    "axes.plot(sigma_spread, sigma_results_put, 'b')\n",
    "axes.set_xlabel(\"Volatility\")\n",
    "axes.set_ylabel(\"Option Value\")\n",
    "axes.set_title(\"BSM vs Volatility\")"
   ]
  },
  {
   "cell_type": "code",
   "execution_count": 14,
   "metadata": {
    "collapsed": false
   },
   "outputs": [
    {
     "data": {
      "text/plain": [
       "<matplotlib.text.Text at 0x106769e10>"
      ]
     },
     "execution_count": 14,
     "metadata": {},
     "output_type": "execute_result"
    },
    {
     "data": {
      "image/png": "[encoded data removed]",
      "text/plain": [
       "<matplotlib.figure.Figure at 0x103a9bd50>"
      ]
     },
     "metadata": {},
     "output_type": "display_data"
    }
   ],
   "source": [
    "fig = plt.figure()\n",
    "axes = fig.add_subplot(1,1,1)\n",
    "axes.plot(time_spread, time_results_call, 'k')\n",
    "axes.plot(time_spread, time_results_put, 'b')\n",
    "axes.set_xlabel(\"Time to Expiration\")\n",
    "axes.set_ylabel(\"Option Value\")\n",
    "axes.set_title(\"BSM vs Time to Expiration\")"
   ]
  },
  {
   "cell_type": "code",
   "execution_count": 15,
   "metadata": {
    "collapsed": false
   },
   "outputs": [
    {
     "data": {
      "text/plain": [
       "<matplotlib.text.Text at 0x106b59c90>"
      ]
     },
     "execution_count": 15,
     "metadata": {},
     "output_type": "execute_result"
    },
    {
     "data": {
      "image/png": "[encoded data removed]",
      "text/plain": [
       "<matplotlib.figure.Figure at 0x1065d2690>"
      ]
     },
     "metadata": {},
     "output_type": "display_data"
    }
   ],
   "source": [
    "fig = plt.figure()\n",
    "axes = fig.add_subplot(1,1,1)\n",
    "axes.plot(share_price_spread, share_price_results_call, 'k')\n",
    "axes.plot(share_price_spread, share_price_results_put, 'b')\n",
    "axes.set_xlabel(\"Share Price\")\n",
    "axes.set_ylabel(\"Option Value\")\n",
    "axes.set_title(\"BSM vs Share Price\")"
   ]
  },
  {
   "cell_type": "code",
   "execution_count": 16,
   "metadata": {
    "collapsed": false
   },
   "outputs": [
    {
     "data": {
      "text/plain": [
       "<matplotlib.text.Text at 0x106a71990>"
      ]
     },
     "execution_count": 16,
     "metadata": {},
     "output_type": "execute_result"
    },
    {
     "data": {
      "image/png": "[encoded data removed]",
      "text/plain": [
       "<matplotlib.figure.Figure at 0x106bd6f90>"
      ]
     },
     "metadata": {},
     "output_type": "display_data"
    }
   ],
   "source": [
    "fig = plt.figure()\n",
    "axes = fig.add_subplot(1,1,1)\n",
    "axes.plot(strike_price_spread, strike_price_results_call, 'k')\n",
    "axes.plot(strike_price_spread, strike_price_results_put, 'b')\n",
    "axes.set_xlabel(\"Strike Price\")\n",
    "axes.set_ylabel(\"Option Value\")\n",
    "axes.set_title(\"BSM vs Strike Price\")"
   ]
  },
  {
   "cell_type": "code",
   "execution_count": 17,
   "metadata": {
    "collapsed": false
   },
   "outputs": [
    {
     "data": {
      "text/plain": [
       "<matplotlib.text.Text at 0x106e30150>"
      ]
     },
     "execution_count": 17,
     "metadata": {},
     "output_type": "execute_result"
    },
    {
     "data": {
      "image/png": "[encoded data removed]",
      "text/plain": [
       "<matplotlib.figure.Figure at 0x106cf5dd0>"
      ]
     },
     "metadata": {},
     "output_type": "display_data"
    }
   ],
   "source": [
    "fig = plt.figure()\n",
    "axes = fig.add_subplot(1,1,1)\n",
    "axes.plot(r_spread, r_results_call, 'k')\n",
    "axes.plot(r_spread, r_results_put, 'b')\n",
    "axes.set_xlabel(\"Risk-free Rate\")\n",
    "axes.set_ylabel(\"Option Value\")\n",
    "axes.set_title(\"BSM vs Risk-free Rate\")"
   ]
  },
  {
   "cell_type": "code",
   "execution_count": 18,
   "metadata": {
    "collapsed": true
   },
   "outputs": [],
   "source": [
    "#Solve for Implied Volatility\n",
    "def difference1(sigma_value, time, share_price, strike_price, r, ACTUAL_VALUE):\n",
    "    \n",
    "    a = 1.0 / (sigma_value * numpy.sqrt(time)) * (numpy.log(float(share_price) / float(strike_price)) + \\\n",
    "                                               time * (r + 1.0 / 2.0 * sigma_value**2))\n",
    "    \n",
    "    b = a - sigma_value * numpy.sqrt(time)\n",
    "    \n",
    "    c = norm.cdf(a) * share_price - norm.cdf(b) * strike_price * numpy.exp(-r * time)\n",
    "    \n",
    "    delta = c - ACTUAL_VALUE\n",
    "    \n",
    "    return delta"
   ]
  },
  {
   "cell_type": "code",
   "execution_count": 19,
   "metadata": {
    "collapsed": false
   },
   "outputs": [],
   "source": [
    "start = date(2015, 11, 8)\n",
    "exp = date(2016, 1, 15)\n",
    "time_length = exp - start\n",
    "time_length_years = time_length.days / 365.25\n",
    "\n",
    "time = time_length_years\n",
    "share_price = 114.06\n",
    "r = .022934\n",
    "strike_price = 160.00\n",
    "ACTUAL_VALUE = 0.55"
   ]
  },
  {
   "cell_type": "code",
   "execution_count": 20,
   "metadata": {
    "collapsed": false
   },
   "outputs": [
    {
     "data": {
      "text/plain": [
       "<matplotlib.text.Text at 0x107808650>"
      ]
     },
     "execution_count": 20,
     "metadata": {},
     "output_type": "execute_result"
    },
    {
     "data": {
      "image/png": "[encoded data removed]",
      "text/plain": [
       "<matplotlib.figure.Figure at 0x106e250d0>"
      ]
     },
     "metadata": {},
     "output_type": "display_data"
    }
   ],
   "source": [
    "sigma_test = numpy.linspace(0.0001, 0.9999, 100)\n",
    "results_test = numpy.linspace(0,0,100)\n",
    "for i in xrange(len(results_test)):\n",
    "   results_test[i] = difference1(sigma_test[i],time, share_price, strike_price, r, ACTUAL_VALUE)\n",
    "\n",
    "\n",
    "fig = plt.figure()\n",
    "axes = fig.add_subplot(1,1,1)\n",
    "axes.plot(sigma_test, results_test, 'k')\n",
    "axes.plot(sigma_test, numpy.zeros(len(sigma_test)), 'r--')\n",
    "axes.set_xlabel(\"Implied Volatility\")\n",
    "axes.set_ylabel(\"f(x)\")\n",
    "axes.set_title(\"BSM vs Implied Volatility\")\n"
   ]
  },
  {
   "cell_type": "code",
   "execution_count": 21,
   "metadata": {
    "collapsed": true
   },
   "outputs": [],
   "source": [
    "def secant_approach(tolerance, time, share_price, strike_price, r, ACTUAL_VALUE):\n",
    "    \n",
    "    s = 0.53\n",
    "    s_l = 0.52\n",
    "    \n",
    "    MAX = 1000\n",
    "    \n",
    "    for steps in range(MAX):\n",
    "        if numpy.abs(difference1(s, time, share_price, strike_price, r, ACTUAL_VALUE)) < tolerance:\n",
    "            break\n",
    "        \n",
    "        else:\n",
    "            s_n = s - difference1(s, time, share_price, strike_price, r, ACTUAL_VALUE) * (s - s_l) / \\\n",
    "                         (difference1(s, time, share_price, strike_price, r, ACTUAL_VALUE) - difference1(s_l, time, share_price, strike_price, r, ACTUAL_VALUE))\n",
    "            s_l = s\n",
    "            s = s_n\n",
    "            \n",
    "    return s"
   ]
  },
  {
   "cell_type": "code",
   "execution_count": 22,
   "metadata": {
    "collapsed": false
   },
   "outputs": [
    {
     "data": {
      "text/plain": [
       "0.46747505787740334"
      ]
     },
     "execution_count": 22,
     "metadata": {},
     "output_type": "execute_result"
    }
   ],
   "source": [
    "start = date(2015, 11, 8)\n",
    "exp = date(2016, 1, 15)\n",
    "time_length = exp - start\n",
    "time_length_years = time_length.days / 365.25\n",
    "\n",
    "time = time_length_years\n",
    "share_price = 114.06\n",
    "r = .022934\n",
    "strike_price = 160.00\n",
    "ACTUAL_VALUE = 0.55\n",
    "\n",
    "secant_approach(.0001, time, share_price, strike_price, r, ACTUAL_VALUE)"
   ]
  },
  {
   "cell_type": "code",
   "execution_count": 23,
   "metadata": {
    "collapsed": true
   },
   "outputs": [],
   "source": [
    "def bisection_approach(tolerance, time, share_price, strike_price, r, ACTUAL_VALUE):\n",
    "    guess_left = 0.00001\n",
    "    guess_right = 0.999\n",
    "    \n",
    "    f_guessleft = difference1(guess_left, time, share_price, strike_price, r, ACTUAL_VALUE)\n",
    "    f_guessright = difference1(guess_right, time, share_price, strike_price, r, ACTUAL_VALUE)\n",
    "    \n",
    "    delta_guess = guess_right - guess_left\n",
    "    \n",
    "    MAX = 1000\n",
    "    truth = 0\n",
    "    \n",
    "    for step in xrange(1,MAX+1):\n",
    "        new_guess = guess_left + delta_guess / 2.0\n",
    "        f_newguess = difference1(new_guess, time, share_price, strike_price, r, ACTUAL_VALUE)\n",
    "        \n",
    "        if numpy.sign(f_guessleft) != numpy.sign(f_newguess):\n",
    "            guess_right = new_guess\n",
    "            f_guessright = f_newguess\n",
    "        \n",
    "        else:\n",
    "            guess_left = new_guess\n",
    "            f_guessleft = f_newguess\n",
    "            \n",
    "        delta_guess = guess_right - guess_left\n",
    "        \n",
    "        if numpy.abs(difference1(new_guess, time, share_price, strike_price, r, ACTUAL_VALUE)) < tolerance:\n",
    "            truth = 1\n",
    "            break\n",
    "            \n",
    "    if truth == 1:    \n",
    "        answer = new_guess\n",
    "        \n",
    "    else:\n",
    "        answer = \"did not work\"\n",
    "            \n",
    "    return answer"
   ]
  },
  {
   "cell_type": "code",
   "execution_count": 24,
   "metadata": {
    "collapsed": false
   },
   "outputs": [
    {
     "data": {
      "text/plain": [
       "0.5316380401611329"
      ]
     },
     "execution_count": 24,
     "metadata": {},
     "output_type": "execute_result"
    }
   ],
   "source": [
    "#Bisection tester\n",
    "start = date(2015, 11, 8)\n",
    "exp = date(2016, 1, 15)\n",
    "time_length = exp - start\n",
    "time_length_years = time_length.days / 365.25\n",
    "\n",
    "time = time_length_years\n",
    "share_price = 114.06\n",
    "r = .022934\n",
    "strike_price = 80.00\n",
    "ACTUAL_VALUE = 34.95\n",
    "\n",
    "bisection_approach(.0001, time, share_price, strike_price, r, ACTUAL_VALUE)"
   ]
  },
  {
   "cell_type": "code",
   "execution_count": 25,
   "metadata": {
    "collapsed": false
   },
   "outputs": [],
   "source": [
    "def bisection_modified(bracket_tolerance, time, share_price, strike_price, r, ACTUAL_VALUE,N):\n",
    "    guess_left = 0.00001\n",
    "    guess_right = 0.999\n",
    "    \n",
    "    f_guessleft = difference1(guess_left, time, share_price, strike_price, r, ACTUAL_VALUE)\n",
    "    f_guessright = difference1(guess_right, time, share_price, strike_price, r, ACTUAL_VALUE)\n",
    "    \n",
    "    delta_guess = guess_right - guess_left\n",
    "    \n",
    "    MAX = 1000\n",
    "    truth = 0\n",
    "    \n",
    "    if N == 0:\n",
    "        fig = plt.figure()\n",
    "        axes = fig.add_subplot(1,1,1)\n",
    "        graph_range = numpy.linspace(0.001,0.999,50)\n",
    "        result_array = numpy.linspace(0,0,len(graph_range))\n",
    "        for i in range(len(result_array)):\n",
    "            result_array[i] = difference1(graph_range[i], time, share_price, strike_price, r, ACTUAL_VALUE)\n",
    "        axes.plot(graph_range, result_array, 'r--')\n",
    "    \n",
    "    for step in xrange(1,MAX+1):\n",
    "        new_guess = guess_left + delta_guess / 2.0\n",
    "        f_newguess = difference1(new_guess, time, share_price, strike_price, r, ACTUAL_VALUE)\n",
    "        \n",
    "        if N == 0:\n",
    "            axes.plot(new_guess, f_newguess, 'ko')\n",
    "            axes.text(new_guess, f_newguess +.05, str(step))\n",
    "        \n",
    "        if numpy.sign(f_guessleft) != numpy.sign(f_newguess):\n",
    "            guess_right = new_guess\n",
    "            f_guessright = f_newguess\n",
    "        \n",
    "        else:\n",
    "            guess_left = new_guess\n",
    "            f_guessleft = f_newguess\n",
    "            \n",
    "        delta_guess = guess_right - guess_left\n",
    "        \n",
    "        if numpy.abs(delta_guess) < bracket_tolerance:\n",
    "            truth = 1\n",
    "            break\n",
    "            \n",
    "    if truth == 1:    \n",
    "        answer_1 = guess_left\n",
    "        answer_2 = guess_right\n",
    "        \n",
    "    else:\n",
    "        answer = \"did not work\"\n",
    "            \n",
    "    return answer_1, answer_2"
   ]
  },
  {
   "cell_type": "code",
   "execution_count": 26,
   "metadata": {
    "collapsed": false
   },
   "outputs": [
    {
     "data": {
      "text/plain": [
       "(0.5307234375000001, 0.5316990136718751)"
      ]
     },
     "execution_count": 26,
     "metadata": {},
     "output_type": "execute_result"
    },
    {
     "data": {
      "image/png": "[encoded data removed]",
      "text/plain": [
       "<matplotlib.figure.Figure at 0x106a9bb90>"
      ]
     },
     "metadata": {},
     "output_type": "display_data"
    }
   ],
   "source": [
    "#Bisection modified tester\n",
    "start = date(2015, 11, 8)\n",
    "exp = date(2016, 1, 15)\n",
    "time_length = exp - start\n",
    "time_length_years = time_length.days / 365.25\n",
    "\n",
    "time = time_length_years\n",
    "share_price = 114.06\n",
    "r = .022934\n",
    "strike_price = 80.00\n",
    "ACTUAL_VALUE = 34.95\n",
    "\n",
    "bisection_modified(.001, time, share_price, strike_price, r, ACTUAL_VALUE,0)"
   ]
  },
  {
   "cell_type": "code",
   "execution_count": 27,
   "metadata": {
    "collapsed": true
   },
   "outputs": [],
   "source": [
    "def secant_modified(tolerance, time, share_price, strike_price, r, ACTUAL_VALUE, bracket):\n",
    "    \n",
    "    s = bracket[0]\n",
    "    s_l = bracket[1]\n",
    "    \n",
    "    MAX = 1000\n",
    "    \n",
    "    for steps in range(MAX):\n",
    "        if numpy.abs(difference1(s, time, share_price, strike_price, r, ACTUAL_VALUE)) < tolerance:\n",
    "            break\n",
    "        \n",
    "        else:\n",
    "            s_n = s - difference1(s, time, share_price, strike_price, r, ACTUAL_VALUE) * (s - s_l) / \\\n",
    "                         (difference1(s, time, share_price, strike_price, r, ACTUAL_VALUE) - difference1(s_l, time, share_price, strike_price, r, ACTUAL_VALUE))\n",
    "            s_l = s\n",
    "            s = s_n\n",
    "            \n",
    "    return s"
   ]
  },
  {
   "cell_type": "code",
   "execution_count": 28,
   "metadata": {
    "collapsed": false
   },
   "outputs": [
    {
     "data": {
      "text/plain": [
       "0.53162285125864928"
      ]
     },
     "execution_count": 28,
     "metadata": {},
     "output_type": "execute_result"
    }
   ],
   "source": [
    "#Secant modified tester\n",
    "start = date(2015, 11, 8)\n",
    "exp = date(2016, 1, 15)\n",
    "time_length = exp - start\n",
    "time_length_years = time_length.days / 365.25\n",
    "\n",
    "time = time_length_years\n",
    "share_price = 114.06\n",
    "r = .022934\n",
    "strike_price = 80.00\n",
    "ACTUAL_VALUE = 34.95\n",
    "\n",
    "bracket_result = bisection_modified(.01, time, share_price, strike_price, r, ACTUAL_VALUE,1)\n",
    "\n",
    "secant_modified(.0001, time, share_price, strike_price, r, ACTUAL_VALUE, bracket_result)"
   ]
  },
  {
   "cell_type": "code",
   "execution_count": 29,
   "metadata": {
    "collapsed": true
   },
   "outputs": [],
   "source": [
    "def implied_vol(bracket_tolerance, time, share_price, strike_price, r, ACTUAL_VALUE):\n",
    "    bracket_result = bisection_modified(bracket_tolerance, time, share_price, strike_price, r, ACTUAL_VALUE,1)\n",
    "    return secant_modified(.0001, time, share_price, strike_price, r, ACTUAL_VALUE, bracket_result)"
   ]
  },
  {
   "cell_type": "code",
   "execution_count": 30,
   "metadata": {
    "collapsed": false
   },
   "outputs": [
    {
     "name": "stdout",
     "output_type": "stream",
     "text": [
      "0.531636916844\n",
      "0.471088332295\n",
      "0.481871759767\n",
      "0.447415405998\n",
      "0.439721956931\n",
      "0.4382237838\n",
      "0.467474606993\n"
     ]
    }
   ],
   "source": [
    "#Testing the hybrid\n",
    "start = date(2015, 11, 8)\n",
    "exp = date(2016, 1, 15)\n",
    "time_length = exp - start\n",
    "time_length_years = time_length.days / 365.25\n",
    "\n",
    "time = time_length_years\n",
    "share_price = 114.06\n",
    "r = .022934\n",
    "\n",
    "strike_prices = numpy.array([80.00,95.00,100.00,114.29,127.14,145.71,160.00])\n",
    "ACTUAL_VALUES = numpy.array([34.95,21.50,17.90,8.89,4.16,1.17,0.55])\n",
    "\n",
    "values = numpy.linspace(0,0,len(strike_prices))\n",
    "\n",
    "for i in range(len(strike_prices)):\n",
    "    strike_price = strike_prices[i]\n",
    "    ACTUAL_VALUE = ACTUAL_VALUES[i]\n",
    "    values[i] = implied_vol(.001, time, share_price, strike_price, r, ACTUAL_VALUE)\n",
    "    print values[i]"
   ]
  },
  {
   "cell_type": "code",
   "execution_count": 31,
   "metadata": {
    "collapsed": false
   },
   "outputs": [
    {
     "data": {
      "text/plain": [
       "<matplotlib.text.Text at 0x107ca5b10>"
      ]
     },
     "execution_count": 31,
     "metadata": {},
     "output_type": "execute_result"
    },
    {
     "data": {
      "image/png": "[encoded data removed]",
      "text/plain": [
       "<matplotlib.figure.Figure at 0x106aa5c50>"
      ]
     },
     "metadata": {},
     "output_type": "display_data"
    }
   ],
   "source": [
    "fig = plt.figure()\n",
    "axes = fig.add_subplot(1,1,1)\n",
    "\n",
    "axes.plot(strike_prices, values, 'k')\n",
    "axes.plot(numpy.ones(20)*share_price, numpy.linspace(0,0.7,20),'b--')\n",
    "axes.set_xlabel(\"Strike Price\")\n",
    "axes.set_ylabel(\"Implied Volatility\")\n",
    "axes.set_ylim((0.4, 0.6))\n",
    "axes.set_title(\"Implied Volatility vs Strike Price (Using Hybrid Approach)\")"
   ]
  },
  {
   "cell_type": "code",
   "execution_count": 32,
   "metadata": {
    "collapsed": true
   },
   "outputs": [],
   "source": [
    "def difference(sigma_value):\n",
    "    \n",
    "    a = 1.0 / (sigma_value * numpy.sqrt(time)) * (numpy.log(float(share_price) / float(strike_price)) + \\\n",
    "                                               time * (r + 1.0 / 2.0 * sigma_value**2))\n",
    "    \n",
    "    b = a - sigma_value * numpy.sqrt(time)\n",
    "    \n",
    "    c = norm.cdf(a) * share_price - norm.cdf(b) * strike_price * numpy.exp(-r * time)\n",
    "    \n",
    "    delta = c - ACTUAL_VALUE\n",
    "    \n",
    "    return delta"
   ]
  },
  {
   "cell_type": "code",
   "execution_count": 33,
   "metadata": {
    "collapsed": true
   },
   "outputs": [],
   "source": [
    "start = date(2015, 11, 8)\n",
    "exp = date(2016, 1, 15)\n",
    "time_length = exp - start\n",
    "time_length_years = time_length.days / 365.25\n",
    "\n",
    "time = time_length_years\n",
    "share_price = 114.06\n",
    "r = .022934"
   ]
  },
  {
   "cell_type": "code",
   "execution_count": 34,
   "metadata": {
    "collapsed": true
   },
   "outputs": [],
   "source": [
    "strike_prices = numpy.array([80.00,95.00,100.00,114.29,127.14,145.71,160.00])\n",
    "ACTUAL_VALUES = numpy.array([34.95,21.50,17.90,8.89,4.16,1.17,0.55])"
   ]
  },
  {
   "cell_type": "code",
   "execution_count": 35,
   "metadata": {
    "collapsed": false
   },
   "outputs": [
    {
     "name": "stdout",
     "output_type": "stream",
     "text": [
      "0.531637046825\n",
      "0.47108842684\n",
      "0.4818717882\n",
      "0.447415403668\n",
      "0.439722020914\n",
      "0.438224046862\n",
      "0.467474995535\n"
     ]
    }
   ],
   "source": [
    "values = numpy.linspace(0,0,len(strike_prices))\n",
    "\n",
    "for i in range(len(strike_prices)):\n",
    "    strike_price = strike_prices[i]\n",
    "    ACTUAL_VALUE = ACTUAL_VALUES[i]\n",
    "    values[i] = scipy.optimize.fsolve(difference,.3)\n",
    "    print values[i]"
   ]
  },
  {
   "cell_type": "code",
   "execution_count": 36,
   "metadata": {
    "collapsed": false,
    "scrolled": true
   },
   "outputs": [
    {
     "data": {
      "text/plain": [
       "<matplotlib.text.Text at 0x106f49610>"
      ]
     },
     "execution_count": 36,
     "metadata": {},
     "output_type": "execute_result"
    },
    {
     "data": {
      "image/png": "[encoded data removed]",
      "text/plain": [
       "<matplotlib.figure.Figure at 0x107e44a10>"
      ]
     },
     "metadata": {},
     "output_type": "display_data"
    }
   ],
   "source": [
    "fig = plt.figure()\n",
    "axes = fig.add_subplot(1,1,1)\n",
    "\n",
    "axes.plot(strike_prices, values, 'k')\n",
    "axes.plot(numpy.ones(20)*share_price, numpy.linspace(0,0.7,20),'b--')\n",
    "axes.set_xlabel(\"Strike Price\")\n",
    "axes.set_ylabel(\"Implied Volatility\")\n",
    "axes.set_ylim((0.4, 0.6))\n",
    "axes.set_title(\"Implied Volatility vs Strike Price (Using Solver)\")"
   ]
  }
 ],
 "metadata": {
  "kernelspec": {
   "display_name": "Python 2",
   "language": "python",
   "name": "python2"
  },
  "language_info": {
   "codemirror_mode": {
    "name": "ipython",
    "version": 2
   },
   "file_extension": ".py",
   "mimetype": "text/x-python",
   "name": "python",
   "nbconvert_exporter": "python",
   "pygments_lexer": "ipython2",
   "version": "2.7.10"
  }
 },
 "nbformat": 4,
 "nbformat_minor": 0
}
